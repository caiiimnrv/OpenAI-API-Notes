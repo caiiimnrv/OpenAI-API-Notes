{
 "cells": [
  {
   "cell_type": "markdown",
   "id": "713b3b52-f2ba-41bd-93bc-824bcce8ebc1",
   "metadata": {},
   "source": [
    "## Text Summarization and Expansion\n",
    "\n",
    "- Condenses text into shorter format\n",
    "- Streamlines business processes\n",
    "  - Finance -> summarizes lengthy reports\n",
    "  - Marketing -> transforms customer feedback into actionable insights\n",
    "- LLMs can summarize texts with effective prompts\n",
    "\n",
    "### Ineffective prompt\n",
    "- Only specifies text to summarize"
   ]
  },
  {
   "cell_type": "code",
   "execution_count": null,
   "id": "56c27075-eba4-4894-be0d-3088a34dfbaf",
   "metadata": {},
   "outputs": [],
   "source": [
    "text = \"\"\"I recently purchased your XYZ Smart Watch and wanted to provide some feedback based on my experience with the product.\n",
    "I must say that I'm impressed with the sleek design and build quality of the watch. It feels comfortable on the wrist and looks great \n",
    "with any outfit. The touchscreen is responsive and easy to navigate through the various features.\"\"\"\n",
    "\n",
    "prompt = f\"\"\"Summarize the text delimited by triple backticks: \n",
    "    ```{text}```\"\"\"\n",
    "\n",
    "print(get_response(prompt))"
   ]
  },
  {
   "cell_type": "markdown",
   "id": "895764f3-cc2e-4f83-9703-27cf05bd22f9",
   "metadata": {},
   "source": [
    "### Prompt improvement\n",
    "- Output limits\n",
    "- Output structure\n",
    "- Summarization focus\n",
    "\n",
    "### Effective prompt: output limits\n",
    "- Specify number of sentences, words, characters"
   ]
  },
  {
   "cell_type": "code",
   "execution_count": null,
   "id": "275d2245-8a3a-466c-b701-2ab751b91e16",
   "metadata": {},
   "outputs": [],
   "source": [
    "text = \"\"\"I recently purchased your XYZ Smart Watch and wanted to provide some feedback based on my experience with the product.\n",
    "I must say that I'm impressed with the sleek design and build quality of the watch. It feels comfortable on the wrist and looks great \n",
    "with any outfit. The touchscreen is responsive and easy to navigate through the various features.\"\"\"\n",
    "\n",
    "prompt = f\"\"\"Summarize the text delimited by triple backticks in one sentence:          \n",
    "    ```{text}```\"\"\"\n",
    "\n",
    "print(get_response(prompt))"
   ]
  },
  {
   "cell_type": "markdown",
   "id": "8da22b54-246e-42f0-b2d3-154abba46001",
   "metadata": {},
   "source": [
    "### Effective prompt: output structure\n",
    "- Specify output structure"
   ]
  },
  {
   "cell_type": "code",
   "execution_count": null,
   "id": "c58708d4-544d-447d-865a-e58149139108",
   "metadata": {},
   "outputs": [],
   "source": [
    "text = \"\"\"I recently purchased your XYZ Smart Watch and wanted to provide some feedbackbased on my experience with the product. \n",
    "I must say that I'm impressed with the sleek design and build quality of the watch. It feels comfortable on the wrist and looks great \n",
    "with any outfit. The touchscreen is responsive and easy to navigate through the various features.\"\"\"\n",
    "\n",
    "prompt = f\"\"\"Summarize the text delimited by triple backticks, in at most three bullet points.          \n",
    "    ```{text}```\"\"\"\n",
    "\n",
    "print(get_response(prompt))"
   ]
  },
  {
   "cell_type": "markdown",
   "id": "766be30b-4ddd-47be-a9ed-8cc91a334ee5",
   "metadata": {},
   "source": [
    "### Effective prompt: summarization focus\n",
    "- Ask model to focus on specific parts of text"
   ]
  },
  {
   "cell_type": "code",
   "execution_count": null,
   "id": "4f3270a2-8d50-4491-94a7-ab6ba55dcb2e",
   "metadata": {},
   "outputs": [],
   "source": [
    "text = \"\"\"I recently purchased your XYZ Smart Watch and wanted to provide some feedbackbased on my experience with the product.\n",
    "I must say that I'm impressed with the sleek design and build quality of the watch. It feels comfortable on the wrist and looks great \n",
    "with any outfit. The touchscreen is responsive and easy to navigate through the various features.\"\"\"\n",
    "\n",
    "prompt = f\"\"\"Summarize the review delimited by triple backticks, in three sentences, \n",
    "    focusing on the key features and user experience: ```{text}```\"\"\"\n",
    "\n",
    "print(get_response(prompt))"
   ]
  },
  {
   "cell_type": "markdown",
   "id": "a4c1c012-a80a-4fa6-8e3c-28d2ee5e0b6f",
   "metadata": {},
   "source": [
    "### Text expansion\n",
    "- Generates text from ideas or bullet points\n",
    "- Improves efficiency and productivity\n",
    "- LLMs can expand text with well-crafted prompts\n",
    "\n",
    "### Text expansion prompts\n",
    "- Ask model to expand delimited text\n",
    "- Highlight aspects to focus on\n",
    "- Provide output requirements (tone, length,structure, audience)\n",
    "\n",
    "### Expanding service description"
   ]
  },
  {
   "cell_type": "code",
   "execution_count": null,
   "id": "fbf002dd-a57a-4d8f-98f7-137f35952152",
   "metadata": {},
   "outputs": [],
   "source": [
    "service_description = \"\"\"Service: Social XYZ\n",
    "- Social Media Strategy Development\n",
    "- Content Creation and Posting \n",
    "- Audience Engagement and Community Building\n",
    "- Increased Brand Visibility\n",
    "- Enhanced Customer Engagement\n",
    "- Data-Driven Marketing Decisions\"\"\""
   ]
  },
  {
   "cell_type": "code",
   "execution_count": null,
   "id": "63a2abe9-01e3-47d7-915f-7f9fa1b58c92",
   "metadata": {},
   "outputs": [],
   "source": [
    "prompt = f\"\"\"Expand the description for the Social XYZ service delimited by triple backticks to provide an overview of its features\n",
    "and benefits, without bypassing the limit of two sentences. Use a professional tone.```{service_description}```\"\"\"\n",
    "\n",
    "print(get_response(prompt))"
   ]
  },
  {
   "cell_type": "code",
   "execution_count": null,
   "id": "3c547bb3-2dc5-46b8-b1f7-a26004ce3ebe",
   "metadata": {},
   "outputs": [],
   "source": [
    "# Practice 1\n",
    "\n",
    "client = OpenAI(api_key=\"<OPENAI_API_TOKEN>\")\n",
    "\n",
    "# Craft a prompt to summarize the report\n",
    "prompt = f\"\"\"Generate a report that summarizes the variable report which has been delimited by the triple backticks '''{report}''', \n",
    "make it maximum of five sentences, while focusing on aspects related to AI and data privacy.\"\"\"\n",
    "\n",
    "response = get_response(prompt)\n",
    "\n",
    "print(\"Summarized report: \\n\", response)"
   ]
  },
  {
   "cell_type": "code",
   "execution_count": null,
   "id": "c48fb3a1-8180-45fa-92e5-1d2c949a58c0",
   "metadata": {},
   "outputs": [],
   "source": [
    "# Practice 2\n",
    "\n",
    "client = OpenAI(api_key=\"<OPENAI_API_TOKEN>\")\n",
    "\n",
    "# Craft a prompt to summarize the product description\n",
    "prompt = f\"\"\"Generate a summarized version of the product description variable, it is delimited by the triple backticks \n",
    "'''{product_description}''' in no more than five bullet points.\"\"\"\n",
    "\n",
    "response = get_response(prompt)\n",
    "\n",
    "print(\"Original description: \\n\", product_description)\n",
    "print(\"Summarized description: \\n\", response)"
   ]
  },
  {
   "cell_type": "code",
   "execution_count": null,
   "id": "c8051032-802a-48de-8030-123d8ae8b507",
   "metadata": {},
   "outputs": [],
   "source": [
    "# Practice 3\n",
    "\n",
    "client = OpenAI(api_key=\"<OPENAI_API_TOKEN>\")\n",
    "\n",
    "# Craft a prompt to expand the product's description\n",
    "prompt = f\"\"\"Expand the variable product description which is delimited by triple backtick and it is a pre-loaded string, \n",
    "and writes a one paragraph comprehensive overview capturing the key information of the product: unique features, benefits, and\n",
    "potential applications. '''{product_description}'''\n",
    "\"\"\"\n",
    "\n",
    "response = get_response(prompt)\n",
    "\n",
    "print(\"Original description: \\n\", product_description)\n",
    "print(\"Expanded description: \\n\", response)"
   ]
  },
  {
   "cell_type": "markdown",
   "id": "9b117fcb-3d23-458f-9312-8fe450acbabd",
   "metadata": {},
   "source": [
    "### Text transformation\n",
    "- Transforms given text to create a new text\n",
    "- Has many applications\n",
    "    - Language translation\n",
    "    - Tone adjustments\n",
    "    - Writing improvement\n",
    "\n",
    "### Language translation\n",
    "- Specify input and output language in prompt"
   ]
  },
  {
   "cell_type": "code",
   "execution_count": null,
   "id": "27a08fe9-1ae9-406b-be05-992101241d22",
   "metadata": {},
   "outputs": [],
   "source": [
    "text = \"\"\"XYZ Scooter is a cutting-edge electric scooter designed for urban adventurers. Its sleek design, long-lasting battery, \n",
    "and smart connectivity offer a seamless and eco-friendly way to navigate city streets.\"\"\"\n",
    "\n",
    "prompt = f\"\"\"Translate the English text delimited by triple backticks to French:           \n",
    "    ```{text}```\"\"\"\n",
    "\n",
    "print(get_response(prompt))"
   ]
  },
  {
   "cell_type": "code",
   "execution_count": null,
   "id": "721a8c95-4f76-4df3-b4f0-8c42a106f45c",
   "metadata": {},
   "outputs": [],
   "source": [
    "# If text language is unknown ...\n",
    "\n",
    "text = \"Das Produkt ist wirklich schön, und der Preis ist fair.\"\n",
    "\n",
    "# Ask the model to specify text language\n",
    "\n",
    "prompt = f\"\"\"Tell me which language is the text delimited by triple backticks:     \n",
    "    ```{text}```\"\"\"\n",
    "\n",
    "print(get_response(prompt))"
   ]
  },
  {
   "cell_type": "markdown",
   "id": "c7837e91-7b41-42e1-9ae6-7ea2702ae3f5",
   "metadata": {},
   "source": [
    "### Multilingual translation\n",
    "- Translate to multiple languages simultaneously"
   ]
  },
  {
   "cell_type": "code",
   "execution_count": null,
   "id": "f5a6f94f-7d81-4300-8bd4-ca0f8691d535",
   "metadata": {},
   "outputs": [],
   "source": [
    "text = \"The product combines top quality with a fair price.\"\n",
    "\n",
    "prompt =  f\"\"\"Translate the English text delimited by triple backticks to French, Spanish, and German:```{text}```\"\"\""
   ]
  },
  {
   "cell_type": "markdown",
   "id": "33cdbb0a-18ac-4b54-8929-4f0654072b5e",
   "metadata": {},
   "source": [
    "### Tone adjustment\n",
    "- Re-write text in a different tone"
   ]
  },
  {
   "cell_type": "code",
   "execution_count": null,
   "id": "0a4dced6-d5c4-4f4c-b644-68b1e1cb091b",
   "metadata": {},
   "outputs": [],
   "source": [
    "text = \"\"\"Hey there! Check out our awesome summer deals! They're super cool, and you won't want to miss them. Grab 'em now!\"\"\"\n",
    "\n",
    "prompt = f\"\"\"Write the text delimited by triple backticks using a formal and persuasive tone:```{text}```\"\"\"\n",
    "\n",
    "print(get_response(prompt))"
   ]
  },
  {
   "cell_type": "code",
   "execution_count": null,
   "id": "b776df6d-c351-43b4-9e06-0d97db209906",
   "metadata": {},
   "outputs": [],
   "source": [
    "# Tone adjustment: specify audience\n",
    "\n",
    "text = \"\"\"Our cutting-edge widget employs state-of-the-art microprocessors and advanced algorithms, delivering unparalleled efficiency\n",
    "and performance for a wide range of applications.\"\"\"\n",
    "\n",
    "prompt = f\"\"\"Write the text delimited by triple backticks to be suitable fora non-technical audience:```{text}```\"\"\"\n",
    "print(get_response(prompt))"
   ]
  },
  {
   "cell_type": "markdown",
   "id": "7a91f82d-7f4c-4a0f-8446-c23d4a47e8e4",
   "metadata": {},
   "source": [
    "### Grammar and writing improvements\n",
    "- Correct spelling, grammar, and punctuation mistakes without modifying other aspects"
   ]
  },
  {
   "cell_type": "code",
   "execution_count": null,
   "id": "b4c825d1-fc73-45fd-8aff-e39dd97a63d4",
   "metadata": {},
   "outputs": [],
   "source": [
    "text = \"Dear sir, I wanted too discus a potentiel opportunity for colabration. Pls let me know wen you're avaliable.\"\n",
    "\n",
    "prompt = f\"\"\"Proofread the text delimited by triple backticks while keeping the original text structure intact:          \n",
    "    ```{text}```\"\"\"\n",
    "\n",
    "print(get_response(prompt))"
   ]
  },
  {
   "cell_type": "markdown",
   "id": "169852eb-7f29-40ae-ac2b-ac92e3f513c1",
   "metadata": {},
   "source": [
    "### Grammar and writing improvements\n",
    "- Enhance clarity by modifying text structure"
   ]
  },
  {
   "cell_type": "code",
   "execution_count": null,
   "id": "ca6c8189-5818-434b-9a22-79f11fa863c7",
   "metadata": {},
   "outputs": [],
   "source": [
    "text = \"Dear sir, I wanted too discus a potentiel opportunity for colabration. Pls let me know wen you're avaliable.\"\n",
    "\n",
    "prompt = f\"\"\"Proofread and restructure the text delimited by triple backticks for enhanced readability, flow, and coherence:      \n",
    "```{text}```\"\"\"\n",
    "\n",
    "print(get_response(prompt))"
   ]
  },
  {
   "cell_type": "code",
   "execution_count": null,
   "id": "3c64a6f1-fa37-49f5-865f-723ecf1abac3",
   "metadata": {},
   "outputs": [],
   "source": [
    "# Practice 4\n",
    "\n",
    "client = OpenAI(api_key=\"<OPENAI_API_TOKEN>\")\n",
    "\n",
    "# Craft a prompt that translates\n",
    "prompt = f\"\"\"Translate the string which is delimited by triple backticks from English to French, Spanish,\n",
    "    and Japanese. '''{marketing_message}'''\"\"\"\n",
    " \n",
    "response = get_response(prompt)\n",
    "\n",
    "print(\"English:\", marketing_message)\n",
    "print(response)"
   ]
  },
  {
   "cell_type": "code",
   "execution_count": null,
   "id": "5ebc3da7-02df-4f6a-864d-6bc6c62e42d0",
   "metadata": {},
   "outputs": [],
   "source": [
    "# Practice 5\n",
    "\n",
    "client = OpenAI(api_key=\"<OPENAI_API_TOKEN>\")\n",
    "\n",
    "# Craft a prompt to change the email's tone\n",
    "prompt = f\"\"\"Transform the email string variable delimited by triple backticks by changing its tone to be professional,\n",
    "    positive, and user-centric. '''{sample_email}'''\"\"\"\n",
    "\n",
    "response = get_response(prompt)\n",
    "\n",
    "print(\"Before transformation: \\n\", sample_email)\n",
    "print(\"After transformation: \\n\", response)"
   ]
  },
  {
   "cell_type": "code",
   "execution_count": null,
   "id": "268e236e-d85c-45d7-b6db-40820cead88d",
   "metadata": {},
   "outputs": [],
   "source": [
    "# Practice 6\n",
    "\n",
    "client = OpenAI(api_key=\"<OPENAI_API_TOKEN>\")\n",
    "\n",
    "# Craft a prompt to transform the text\n",
    "prompt = f\"\"\"Transform the text delimited by triple backticks with the following two steps:\n",
    "    1. First proofreads the text without changing its structure\n",
    "    2. Then adjust its tone to be formal and friendly\n",
    "    '''{text}'''\"\"\"\n",
    "\n",
    "response = get_response(prompt)\n",
    "\n",
    "print(\"Before transformation:\\n\", text)\n",
    "print(\"After transformation:\\n\", response)"
   ]
  },
  {
   "cell_type": "markdown",
   "id": "23d10abd-4fcc-40ae-a9a5-ae7967b9e8a2",
   "metadata": {},
   "source": [
    "### Text analysis\n",
    "- Examining text to extract information\n",
    "    - Text classification\n",
    "    - Entity extraction\n",
    "- Companies should seek legal advice when using customer data\n",
    "\n",
    "### Text classification\n",
    "- Assign categories to text\n",
    "- Example: sentiment analysis\n",
    "\n",
    "### Specified categories\n",
    "- Specify classification categories when known\n",
    "- Mention output requirements"
   ]
  },
  {
   "cell_type": "code",
   "execution_count": null,
   "id": "88faf1e7-524f-4d46-9bda-bf1558192492",
   "metadata": {},
   "outputs": [],
   "source": [
    "text = \"\"\"I bought your XYZ Smart Watch and wanted to share my positive experience. Impressed with its sleek design, comfort,\n",
    "and touchscreen usability.\"\"\"\n",
    "\n",
    "prompt = f\"\"\"Classify the sentiment of the text delimited by triple backticks as positive, negative, or neutral. \n",
    "    Give your answer as a single word: ```{text}```\"\"\"\n",
    "\n",
    "print(get_response(prompt))"
   ]
  },
  {
   "cell_type": "markdown",
   "id": "501e974e-f9e8-48e5-ad29-b825a9033355",
   "metadata": {},
   "source": [
    "### Unspecified categories\n",
    "- Model uses its knowledge when categories are not specified"
   ]
  },
  {
   "cell_type": "code",
   "execution_count": null,
   "id": "9c0d87b5-1968-4a3e-b658-524c18ca9dcb",
   "metadata": {},
   "outputs": [],
   "source": [
    "text = \"\"\"I bought your XYZ Smart Watch and wanted to share my positive experience. Impressed with its sleek design, comfort, and \n",
    "touchscreen usability.\"\"\"\n",
    "\n",
    "prompt = f\"\"\"Classify the sentiment of the text delimited by triple backticks. \n",
    "    Give your answer as a single word. ``{text}```\"\"\"\n",
    "\n",
    "print(get_response(response))"
   ]
  },
  {
   "cell_type": "markdown",
   "id": "aa2c6b79-028a-41f4-ad50-6bbb34eab6d4",
   "metadata": {},
   "source": [
    "### Multiple classes\n",
    "- Text can fit into multiple classes\n",
    "- Define a maximum number of classes if they are not known"
   ]
  },
  {
   "cell_type": "code",
   "execution_count": null,
   "id": "f8e8bbe9-dde9-47de-92b6-587f58121ba8",
   "metadata": {},
   "outputs": [],
   "source": [
    "text = \"\"\"I bought your XYZ Smart Watch and wanted to share my positive experience. Impressed with its sleek design, comfort, and \n",
    "touchscreen usability.\"\"\"\n",
    "\n",
    "prompt = f\"\"\"Identify emotions used in this text. Don't use more than 3 emotions.  \n",
    "    Format your answer as a list of words separated by commas:  ```{text}```\"\"\"\n",
    "\n",
    "print(get_response(prompt))"
   ]
  },
  {
   "cell_type": "markdown",
   "id": "8bd90db8-c1c8-4ae0-8c3d-2a6dba571a61",
   "metadata": {},
   "source": [
    "### Entity extraction\n",
    "- Extracting specific entities from text\n",
    "- Examples: names, places, organizations,dates\n",
    "\n",
    "### Entity extraction: specify entities\n",
    "- Specify entities to extract\n",
    "- Mention output format"
   ]
  },
  {
   "cell_type": "code",
   "execution_count": null,
   "id": "d6b1c060-deec-4954-9ca4-d818903c0d53",
   "metadata": {},
   "outputs": [],
   "source": [
    "text = \"\"\"The XYZ Mobile X200: a sleek 6.5-inch Super AMOLED smartphone with a 48MP triple-camera, octa-core processor, \n",
    "5000mAh battery, 5G connectivity, and Android 11 OS. Secure with fingerprint and facial recognition. 128GB storage, expandable \n",
    "up to 512GB.\"\"\"\n",
    "\n",
    "prompt = f\"\"\"Identify the following entities from the text delimited by triple backticks \n",
    "    - Product Name\n",
    "    - Display Size             \n",
    "    - Camera Resolution            \n",
    "    Format the answer as an unordered list.\n",
    "    ```{text}```\"\"\"\n",
    "\n",
    "print(get_response(prompt))"
   ]
  },
  {
   "cell_type": "markdown",
   "id": "baff76af-6c77-42c3-81f3-8aa20ecbbeb5",
   "metadata": {},
   "source": [
    "### Entity extraction with few-shot prompts\n",
    "- For complex structures"
   ]
  },
  {
   "cell_type": "code",
   "execution_count": null,
   "id": "689ecf2d-ae96-495f-bada-e2a2d8e2a92d",
   "metadata": {},
   "outputs": [],
   "source": [
    "ticket_1 = \"Hello, I'm Emma Adams. I'd like to ask about my reservation with the code CAR123. You can reach me at +123456 if needed.\"\n",
    "ticket_2 = \"\"\"This is Sarah Williams. I would like to request some informationregarding my upcoming flight with reservation code FLIGHT987. \n",
    "Thank you.\"\"\"\n",
    "\n",
    "entities_1 = \"\"\"\n",
    "    * Customer Details: \n",
    "    - Name: Emma Adams \n",
    "    - Phone: +123456\n",
    "    \n",
    "    * Reservation Details: \n",
    "    - Reservation Code: CAR123\n",
    "    \"\"\"\n",
    "\n",
    "entities_2 = \"\"\"\n",
    "    * Customer Details:  \n",
    "    - Name: Sarah Williams\n",
    "    \n",
    "    * Reservation Details:  \n",
    "    - Reservation Code: FLIGHT987\n",
    "    \"\"\""
   ]
  },
  {
   "cell_type": "code",
   "execution_count": null,
   "id": "e9f1b154-e83d-4cf4-8c2e-0a9d05d359fc",
   "metadata": {},
   "outputs": [],
   "source": [
    "ticket_3 = \"\"\"Hello, I'm David Brown (CUST123). I need assistance with my reservation under the code HOTEL456.\n",
    "There are some questions and issues related to my upcoming stay that require your attention.\"\"\"\n",
    "\n",
    "prompt = f\"\"\"Text: {ticket_1} -> Entities: {entities_1}             \n",
    "    Text: {ticket_2} -> Entities: {entities_2}          \n",
    "    Text: {ticket_3} -> Entities: \"\"\"\n",
    "\n",
    "print(get_response(prompt))"
   ]
  },
  {
   "cell_type": "code",
   "execution_count": null,
   "id": "ef30b857-05f9-4635-8b3f-45af815088bf",
   "metadata": {},
   "outputs": [],
   "source": [
    "# Practice 7\n",
    "\n",
    "client = OpenAI(api_key=\"<OPENAI_API_TOKEN>\")\n",
    "\n",
    "# Craft a prompt to classify the ticket\n",
    "prompt = f\"\"\"Classify the variable ticket delimited by triple backticks as technical issue, \n",
    "billing inquiry, or product feedback, without providing anything else in the response. '''{ticket}'''\"\"\"\n",
    "\n",
    "response = get_response(prompt)\n",
    "\n",
    "print(\"Ticket: \", ticket)\n",
    "print(\"Class: \", response)"
   ]
  },
  {
   "cell_type": "code",
   "execution_count": null,
   "id": "376b7f1a-50a4-4a29-9866-b095f796841c",
   "metadata": {},
   "outputs": [],
   "source": [
    "# Practice 8\n",
    "\n",
    "client = OpenAI(api_key=\"<OPENAI_API_TOKEN>\")\n",
    "\n",
    "# Craft a few-shot prompt to get the ticket's entities\n",
    "prompt = f\"\"\"Text: {ticket_1} -> Entities: {entities_1}             \n",
    "    Text: {ticket_2} -> Entities: {entities_2}          \n",
    "    Text: {ticket_3} -> Entities: {entities_3}\n",
    "    Now extract the entities for the following ticket:\n",
    "    Text: {ticket_4} -> Entities:\"\"\"\n",
    "\n",
    "response = get_response(prompt)\n",
    "\n",
    "print(\"Ticket: \\n\", ticket_4)\n",
    "print(\"Entities: \\n\", response)"
   ]
  },
  {
   "cell_type": "code",
   "execution_count": null,
   "id": "2e9682b8-8111-42bf-a89d-a5f732a5d406",
   "metadata": {},
   "outputs": [],
   "source": [
    "# Practice 9\n",
    "\n",
    "client = OpenAI(api_key=\"<OPENAI_API_TOKEN>\")\n",
    "\n",
    "# Craft a prompt that asks the model for the function\n",
    "prompt = \"\"\"Write a Python function named get_best_month that:\n",
    "- Receives a list of 12 floats representing monthly sales data (index 0 = January, index 11 = December).\n",
    "- Returns the name of the month (as a string) with the highest sales value.\"\"\"\n",
    "\n",
    "response = get_response(prompt)\n",
    "print(response)"
   ]
  },
  {
   "cell_type": "code",
   "execution_count": null,
   "id": "766f233a-1f3e-4973-9c49-424903dd0537",
   "metadata": {},
   "outputs": [],
   "source": [
    "# Practice 10\n",
    "\n",
    "client = OpenAI(api_key=\"<OPENAI_API_TOKEN>\")\n",
    "\n",
    "examples=\"\"\"input = [10, 5, 8] -> output = 23\n",
    "input = [5, 2, 4] -> output = 11\n",
    "input = [2, 1, 3] -> output = 6\n",
    "input = [8, 4, 6] -> output = 18\n",
    "\"\"\"\n",
    "\n",
    "# Craft a prompt that asks the model for the function\n",
    "prompt = f\"\"\"\n",
    "You are given some input-output examples:\n",
    "\n",
    "{examples}\n",
    "\n",
    "Infer the rule that maps the inputs to the outputs, and write a Python function\n",
    "that implements this rule. The function should be called `solve` and accept a list of integers.\n",
    "Only output the function definition, nothing else.\n",
    "\"\"\"\n",
    "\n",
    "response = get_response(prompt)\n",
    "print(response)"
   ]
  },
  {
   "cell_type": "code",
   "execution_count": null,
   "id": "28fbc6cf-9a83-4686-b960-bbaef1a415d2",
   "metadata": {},
   "outputs": [],
   "source": [
    "# Practice 11\n",
    "\n",
    "client = OpenAI(api_key=\"<OPENAI_API_TOKEN>\")\n",
    "\n",
    "function = \"\"\"def calculate_area_rectangular_floor(width, length):\n",
    "\t\t\t\t\treturn width*length\"\"\"\n",
    "\n",
    "# Craft a multi-step prompt that asks the model to adjust the function\n",
    "prompt = f\"\"\"\n",
    "You are given the following function:\n",
    "\n",
    "{function}\n",
    "\n",
    "Modify this function according to these requirements:\n",
    "\n",
    "1. First, test if the inputs `width` and `length` are positive numbers.\n",
    "2. If either input is not positive, return an appropriate error message \n",
    "   (e.g., \"Width and length must be positive numbers\").\n",
    "3. If both inputs are valid, compute:\n",
    "   - the area of the rectangle (width * length)\n",
    "   - the perimeter of the rectangle (2 * (width + length))\n",
    "4. Return both the area and the perimeter as a tuple (area, perimeter).\n",
    "5. Provide only the final modified Python function, nothing else.\n",
    "\"\"\"\n",
    "\n",
    "response = get_response(prompt)\n",
    "print(response)"
   ]
  },
  {
   "cell_type": "code",
   "execution_count": null,
   "id": "c3304ae5-8cee-41e0-8e50-9217a28d5913",
   "metadata": {},
   "outputs": [],
   "source": [
    "# Practice 12\n",
    "\n",
    "client = OpenAI(api_key=\"<OPENAI_API_TOKEN>\")\n",
    "\n",
    "# Craft a chain-of-thought prompt that asks the model to explain what the function does\n",
    "prompt = f\"\"\"\n",
    "You are given the following Python function:\n",
    "\n",
    "{function}\n",
    "\n",
    "Explain what this function does. Provide only a clear, concise explanation (do NOT reveal internal chain-of-thought). Include the following sections:\n",
    "\n",
    "1) One-sentence summary of the function's purpose.\n",
    "2) A short, numbered list of the concrete steps the function performs (summary only).\n",
    "3) The expected input types and the output format.\n",
    "4) Any edge cases or invalid inputs to watch for and recommended handling.\n",
    "5) A brief example showing a sample call and the expected result.\n",
    "\n",
    "Return only the explanation (no extra commentary and no internal chain-of-thought).\n",
    "\"\"\"\n",
    "\n",
    "response = get_response(prompt)\n",
    "print(response)"
   ]
  }
 ],
 "metadata": {
  "kernelspec": {
   "display_name": "Python [conda env:base] *",
   "language": "python",
   "name": "conda-base-py"
  },
  "language_info": {
   "codemirror_mode": {
    "name": "ipython",
    "version": 3
   },
   "file_extension": ".py",
   "mimetype": "text/x-python",
   "name": "python",
   "nbconvert_exporter": "python",
   "pygments_lexer": "ipython3",
   "version": "3.12.7"
  }
 },
 "nbformat": 4,
 "nbformat_minor": 5
}
